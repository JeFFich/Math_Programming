{
  "nbformat": 4,
  "nbformat_minor": 0,
  "metadata": {
    "colab": {
      "provenance": [],
      "authorship_tag": "ABX9TyPe+EMraiB+L276qzLclLvp",
      "include_colab_link": true
    },
    "kernelspec": {
      "name": "python3",
      "display_name": "Python 3"
    },
    "language_info": {
      "name": "python"
    }
  },
  "cells": [
    {
      "cell_type": "markdown",
      "metadata": {
        "id": "view-in-github",
        "colab_type": "text"
      },
      "source": [
        "<a href=\"https://colab.research.google.com/github/JeFFich/Math_Programming/blob/main/%D0%9F%D1%80%D0%BE%D0%B2%D0%B5%D1%80%D0%BA%D0%B0_%D0%B3%D0%B8%D0%BF%D0%BE%D1%82%D0%B5%D0%B72.ipynb\" target=\"_parent\"><img src=\"https://colab.research.google.com/assets/colab-badge.svg\" alt=\"Open In Colab\"/></a>"
      ]
    },
    {
      "cell_type": "code",
      "execution_count": null,
      "metadata": {
        "id": "NQw5oTYhyn8i"
      },
      "outputs": [],
      "source": [
        "import pandas as pd\n",
        "import numpy as np\n",
        "import scipy.stats as st\n",
        "import seaborn as sns"
      ]
    },
    {
      "cell_type": "markdown",
      "source": [
        "Возьмем те же данные о сделках компании Boeing на поставку самолетов в различные страны в период с 1958 по 2022 года. Группировка и сегментация останутся аналогичными"
      ],
      "metadata": {
        "id": "wVlE_JePjmS2"
      }
    },
    {
      "cell_type": "code",
      "source": [
        "df = pd.read_csv('/content/cleanedOrdersBoeing (1).csv')\n",
        "\n",
        "df.head()"
      ],
      "metadata": {
        "colab": {
          "base_uri": "https://localhost:8080/",
          "height": 206
        },
        "id": "MMGzESMUEY14",
        "outputId": "d6759308-cb30-4198-8d01-6a24d80e993c"
      },
      "execution_count": null,
      "outputs": [
        {
          "output_type": "execute_result",
          "data": {
            "text/plain": [
              "   Unnamed: 0      country                customer  delivery_year engine  \\\n",
              "0           0  Afghanistan  Ariana Afghan Airlines           1968     PW   \n",
              "1           1  Afghanistan  Ariana Afghan Airlines           1970     PW   \n",
              "2           2  Afghanistan  Ariana Afghan Airlines           1979     GE   \n",
              "3           4      Algeria             Air Algerie           1974     PW   \n",
              "4           5      Algeria             Air Algerie           1974     PW   \n",
              "\n",
              "     model month  year        region  delivery_total  order_total  \\\n",
              "0      727   Mar  1968  Central Asia               1            1   \n",
              "1      727   Apr  1969  Central Asia               1            1   \n",
              "2    DC-10   Sep  1978  Central Asia               1            1   \n",
              "3      727   Jan  1974        Africa               1            1   \n",
              "4  737-200   Jan  1974        Africa               1            1   \n",
              "\n",
              "   unfilled_orders  \n",
              "0                0  \n",
              "1                0  \n",
              "2                0  \n",
              "3                0  \n",
              "4                0  "
            ],
            "text/html": [
              "\n",
              "  <div id=\"df-f5cf3c06-fa58-44c3-9ae0-ae2e9f0e746b\" class=\"colab-df-container\">\n",
              "    <div>\n",
              "<style scoped>\n",
              "    .dataframe tbody tr th:only-of-type {\n",
              "        vertical-align: middle;\n",
              "    }\n",
              "\n",
              "    .dataframe tbody tr th {\n",
              "        vertical-align: top;\n",
              "    }\n",
              "\n",
              "    .dataframe thead th {\n",
              "        text-align: right;\n",
              "    }\n",
              "</style>\n",
              "<table border=\"1\" class=\"dataframe\">\n",
              "  <thead>\n",
              "    <tr style=\"text-align: right;\">\n",
              "      <th></th>\n",
              "      <th>Unnamed: 0</th>\n",
              "      <th>country</th>\n",
              "      <th>customer</th>\n",
              "      <th>delivery_year</th>\n",
              "      <th>engine</th>\n",
              "      <th>model</th>\n",
              "      <th>month</th>\n",
              "      <th>year</th>\n",
              "      <th>region</th>\n",
              "      <th>delivery_total</th>\n",
              "      <th>order_total</th>\n",
              "      <th>unfilled_orders</th>\n",
              "    </tr>\n",
              "  </thead>\n",
              "  <tbody>\n",
              "    <tr>\n",
              "      <th>0</th>\n",
              "      <td>0</td>\n",
              "      <td>Afghanistan</td>\n",
              "      <td>Ariana Afghan Airlines</td>\n",
              "      <td>1968</td>\n",
              "      <td>PW</td>\n",
              "      <td>727</td>\n",
              "      <td>Mar</td>\n",
              "      <td>1968</td>\n",
              "      <td>Central Asia</td>\n",
              "      <td>1</td>\n",
              "      <td>1</td>\n",
              "      <td>0</td>\n",
              "    </tr>\n",
              "    <tr>\n",
              "      <th>1</th>\n",
              "      <td>1</td>\n",
              "      <td>Afghanistan</td>\n",
              "      <td>Ariana Afghan Airlines</td>\n",
              "      <td>1970</td>\n",
              "      <td>PW</td>\n",
              "      <td>727</td>\n",
              "      <td>Apr</td>\n",
              "      <td>1969</td>\n",
              "      <td>Central Asia</td>\n",
              "      <td>1</td>\n",
              "      <td>1</td>\n",
              "      <td>0</td>\n",
              "    </tr>\n",
              "    <tr>\n",
              "      <th>2</th>\n",
              "      <td>2</td>\n",
              "      <td>Afghanistan</td>\n",
              "      <td>Ariana Afghan Airlines</td>\n",
              "      <td>1979</td>\n",
              "      <td>GE</td>\n",
              "      <td>DC-10</td>\n",
              "      <td>Sep</td>\n",
              "      <td>1978</td>\n",
              "      <td>Central Asia</td>\n",
              "      <td>1</td>\n",
              "      <td>1</td>\n",
              "      <td>0</td>\n",
              "    </tr>\n",
              "    <tr>\n",
              "      <th>3</th>\n",
              "      <td>4</td>\n",
              "      <td>Algeria</td>\n",
              "      <td>Air Algerie</td>\n",
              "      <td>1974</td>\n",
              "      <td>PW</td>\n",
              "      <td>727</td>\n",
              "      <td>Jan</td>\n",
              "      <td>1974</td>\n",
              "      <td>Africa</td>\n",
              "      <td>1</td>\n",
              "      <td>1</td>\n",
              "      <td>0</td>\n",
              "    </tr>\n",
              "    <tr>\n",
              "      <th>4</th>\n",
              "      <td>5</td>\n",
              "      <td>Algeria</td>\n",
              "      <td>Air Algerie</td>\n",
              "      <td>1974</td>\n",
              "      <td>PW</td>\n",
              "      <td>737-200</td>\n",
              "      <td>Jan</td>\n",
              "      <td>1974</td>\n",
              "      <td>Africa</td>\n",
              "      <td>1</td>\n",
              "      <td>1</td>\n",
              "      <td>0</td>\n",
              "    </tr>\n",
              "  </tbody>\n",
              "</table>\n",
              "</div>\n",
              "    <div class=\"colab-df-buttons\">\n",
              "\n",
              "  <div class=\"colab-df-container\">\n",
              "    <button class=\"colab-df-convert\" onclick=\"convertToInteractive('df-f5cf3c06-fa58-44c3-9ae0-ae2e9f0e746b')\"\n",
              "            title=\"Convert this dataframe to an interactive table.\"\n",
              "            style=\"display:none;\">\n",
              "\n",
              "  <svg xmlns=\"http://www.w3.org/2000/svg\" height=\"24px\" viewBox=\"0 -960 960 960\">\n",
              "    <path d=\"M120-120v-720h720v720H120Zm60-500h600v-160H180v160Zm220 220h160v-160H400v160Zm0 220h160v-160H400v160ZM180-400h160v-160H180v160Zm440 0h160v-160H620v160ZM180-180h160v-160H180v160Zm440 0h160v-160H620v160Z\"/>\n",
              "  </svg>\n",
              "    </button>\n",
              "\n",
              "  <style>\n",
              "    .colab-df-container {\n",
              "      display:flex;\n",
              "      gap: 12px;\n",
              "    }\n",
              "\n",
              "    .colab-df-convert {\n",
              "      background-color: #E8F0FE;\n",
              "      border: none;\n",
              "      border-radius: 50%;\n",
              "      cursor: pointer;\n",
              "      display: none;\n",
              "      fill: #1967D2;\n",
              "      height: 32px;\n",
              "      padding: 0 0 0 0;\n",
              "      width: 32px;\n",
              "    }\n",
              "\n",
              "    .colab-df-convert:hover {\n",
              "      background-color: #E2EBFA;\n",
              "      box-shadow: 0px 1px 2px rgba(60, 64, 67, 0.3), 0px 1px 3px 1px rgba(60, 64, 67, 0.15);\n",
              "      fill: #174EA6;\n",
              "    }\n",
              "\n",
              "    .colab-df-buttons div {\n",
              "      margin-bottom: 4px;\n",
              "    }\n",
              "\n",
              "    [theme=dark] .colab-df-convert {\n",
              "      background-color: #3B4455;\n",
              "      fill: #D2E3FC;\n",
              "    }\n",
              "\n",
              "    [theme=dark] .colab-df-convert:hover {\n",
              "      background-color: #434B5C;\n",
              "      box-shadow: 0px 1px 3px 1px rgba(0, 0, 0, 0.15);\n",
              "      filter: drop-shadow(0px 1px 2px rgba(0, 0, 0, 0.3));\n",
              "      fill: #FFFFFF;\n",
              "    }\n",
              "  </style>\n",
              "\n",
              "    <script>\n",
              "      const buttonEl =\n",
              "        document.querySelector('#df-f5cf3c06-fa58-44c3-9ae0-ae2e9f0e746b button.colab-df-convert');\n",
              "      buttonEl.style.display =\n",
              "        google.colab.kernel.accessAllowed ? 'block' : 'none';\n",
              "\n",
              "      async function convertToInteractive(key) {\n",
              "        const element = document.querySelector('#df-f5cf3c06-fa58-44c3-9ae0-ae2e9f0e746b');\n",
              "        const dataTable =\n",
              "          await google.colab.kernel.invokeFunction('convertToInteractive',\n",
              "                                                    [key], {});\n",
              "        if (!dataTable) return;\n",
              "\n",
              "        const docLinkHtml = 'Like what you see? Visit the ' +\n",
              "          '<a target=\"_blank\" href=https://colab.research.google.com/notebooks/data_table.ipynb>data table notebook</a>'\n",
              "          + ' to learn more about interactive tables.';\n",
              "        element.innerHTML = '';\n",
              "        dataTable['output_type'] = 'display_data';\n",
              "        await google.colab.output.renderOutput(dataTable, element);\n",
              "        const docLink = document.createElement('div');\n",
              "        docLink.innerHTML = docLinkHtml;\n",
              "        element.appendChild(docLink);\n",
              "      }\n",
              "    </script>\n",
              "  </div>\n",
              "\n",
              "\n",
              "<div id=\"df-87fb2a58-c6f5-4fe1-949b-963b5dc6cf8a\">\n",
              "  <button class=\"colab-df-quickchart\" onclick=\"quickchart('df-87fb2a58-c6f5-4fe1-949b-963b5dc6cf8a')\"\n",
              "            title=\"Suggest charts\"\n",
              "            style=\"display:none;\">\n",
              "\n",
              "<svg xmlns=\"http://www.w3.org/2000/svg\" height=\"24px\"viewBox=\"0 0 24 24\"\n",
              "     width=\"24px\">\n",
              "    <g>\n",
              "        <path d=\"M19 3H5c-1.1 0-2 .9-2 2v14c0 1.1.9 2 2 2h14c1.1 0 2-.9 2-2V5c0-1.1-.9-2-2-2zM9 17H7v-7h2v7zm4 0h-2V7h2v10zm4 0h-2v-4h2v4z\"/>\n",
              "    </g>\n",
              "</svg>\n",
              "  </button>\n",
              "\n",
              "<style>\n",
              "  .colab-df-quickchart {\n",
              "      --bg-color: #E8F0FE;\n",
              "      --fill-color: #1967D2;\n",
              "      --hover-bg-color: #E2EBFA;\n",
              "      --hover-fill-color: #174EA6;\n",
              "      --disabled-fill-color: #AAA;\n",
              "      --disabled-bg-color: #DDD;\n",
              "  }\n",
              "\n",
              "  [theme=dark] .colab-df-quickchart {\n",
              "      --bg-color: #3B4455;\n",
              "      --fill-color: #D2E3FC;\n",
              "      --hover-bg-color: #434B5C;\n",
              "      --hover-fill-color: #FFFFFF;\n",
              "      --disabled-bg-color: #3B4455;\n",
              "      --disabled-fill-color: #666;\n",
              "  }\n",
              "\n",
              "  .colab-df-quickchart {\n",
              "    background-color: var(--bg-color);\n",
              "    border: none;\n",
              "    border-radius: 50%;\n",
              "    cursor: pointer;\n",
              "    display: none;\n",
              "    fill: var(--fill-color);\n",
              "    height: 32px;\n",
              "    padding: 0;\n",
              "    width: 32px;\n",
              "  }\n",
              "\n",
              "  .colab-df-quickchart:hover {\n",
              "    background-color: var(--hover-bg-color);\n",
              "    box-shadow: 0 1px 2px rgba(60, 64, 67, 0.3), 0 1px 3px 1px rgba(60, 64, 67, 0.15);\n",
              "    fill: var(--button-hover-fill-color);\n",
              "  }\n",
              "\n",
              "  .colab-df-quickchart-complete:disabled,\n",
              "  .colab-df-quickchart-complete:disabled:hover {\n",
              "    background-color: var(--disabled-bg-color);\n",
              "    fill: var(--disabled-fill-color);\n",
              "    box-shadow: none;\n",
              "  }\n",
              "\n",
              "  .colab-df-spinner {\n",
              "    border: 2px solid var(--fill-color);\n",
              "    border-color: transparent;\n",
              "    border-bottom-color: var(--fill-color);\n",
              "    animation:\n",
              "      spin 1s steps(1) infinite;\n",
              "  }\n",
              "\n",
              "  @keyframes spin {\n",
              "    0% {\n",
              "      border-color: transparent;\n",
              "      border-bottom-color: var(--fill-color);\n",
              "      border-left-color: var(--fill-color);\n",
              "    }\n",
              "    20% {\n",
              "      border-color: transparent;\n",
              "      border-left-color: var(--fill-color);\n",
              "      border-top-color: var(--fill-color);\n",
              "    }\n",
              "    30% {\n",
              "      border-color: transparent;\n",
              "      border-left-color: var(--fill-color);\n",
              "      border-top-color: var(--fill-color);\n",
              "      border-right-color: var(--fill-color);\n",
              "    }\n",
              "    40% {\n",
              "      border-color: transparent;\n",
              "      border-right-color: var(--fill-color);\n",
              "      border-top-color: var(--fill-color);\n",
              "    }\n",
              "    60% {\n",
              "      border-color: transparent;\n",
              "      border-right-color: var(--fill-color);\n",
              "    }\n",
              "    80% {\n",
              "      border-color: transparent;\n",
              "      border-right-color: var(--fill-color);\n",
              "      border-bottom-color: var(--fill-color);\n",
              "    }\n",
              "    90% {\n",
              "      border-color: transparent;\n",
              "      border-bottom-color: var(--fill-color);\n",
              "    }\n",
              "  }\n",
              "</style>\n",
              "\n",
              "  <script>\n",
              "    async function quickchart(key) {\n",
              "      const quickchartButtonEl =\n",
              "        document.querySelector('#' + key + ' button');\n",
              "      quickchartButtonEl.disabled = true;  // To prevent multiple clicks.\n",
              "      quickchartButtonEl.classList.add('colab-df-spinner');\n",
              "      try {\n",
              "        const charts = await google.colab.kernel.invokeFunction(\n",
              "            'suggestCharts', [key], {});\n",
              "      } catch (error) {\n",
              "        console.error('Error during call to suggestCharts:', error);\n",
              "      }\n",
              "      quickchartButtonEl.classList.remove('colab-df-spinner');\n",
              "      quickchartButtonEl.classList.add('colab-df-quickchart-complete');\n",
              "    }\n",
              "    (() => {\n",
              "      let quickchartButtonEl =\n",
              "        document.querySelector('#df-87fb2a58-c6f5-4fe1-949b-963b5dc6cf8a button');\n",
              "      quickchartButtonEl.style.display =\n",
              "        google.colab.kernel.accessAllowed ? 'block' : 'none';\n",
              "    })();\n",
              "  </script>\n",
              "</div>\n",
              "    </div>\n",
              "  </div>\n"
            ]
          },
          "metadata": {},
          "execution_count": 3
        }
      ]
    },
    {
      "cell_type": "markdown",
      "source": [
        "Поля датасета:\n",
        "\n",
        "\n",
        "\n",
        "*   ***country*** - Страна покупателя самолетов\n",
        "*   ***customer*** - Клиент-авиакомпания\n",
        "*   ***delivery_year*** - год доставки самолета\n",
        "*   ***engine*** - мотор, установленный в самолете\n",
        "*   ***model*** - модель самолета\n",
        "*   ***month*** - месяц поставки\n",
        "*   ***year*** - год заключения сделки\n",
        "*   ***delivery_total*** - общее количество доставленных самолетов\n",
        "*   ***order_total*** - общее количество заказанных самолетов\n",
        "*   ***unfilled_orders*** - число недоставленных по изначальному заказу самолетов\n",
        "\n"
      ],
      "metadata": {
        "id": "xhjWRwchj6Bi"
      }
    },
    {
      "cell_type": "code",
      "source": [
        "df.info()"
      ],
      "metadata": {
        "colab": {
          "base_uri": "https://localhost:8080/"
        },
        "id": "3R1AaTijEl9C",
        "outputId": "5cf555ca-224a-4301-c33d-ca7d078c3e6b"
      },
      "execution_count": null,
      "outputs": [
        {
          "output_type": "stream",
          "name": "stdout",
          "text": [
            "<class 'pandas.core.frame.DataFrame'>\n",
            "RangeIndex: 8002 entries, 0 to 8001\n",
            "Data columns (total 12 columns):\n",
            " #   Column           Non-Null Count  Dtype \n",
            "---  ------           --------------  ----- \n",
            " 0   Unnamed: 0       8002 non-null   int64 \n",
            " 1   country          8002 non-null   object\n",
            " 2   customer         8002 non-null   object\n",
            " 3   delivery_year    8002 non-null   int64 \n",
            " 4   engine           8002 non-null   object\n",
            " 5   model            8002 non-null   object\n",
            " 6   month            8002 non-null   object\n",
            " 7   year             8002 non-null   int64 \n",
            " 8   region           8002 non-null   object\n",
            " 9   delivery_total   8002 non-null   int64 \n",
            " 10  order_total      8002 non-null   int64 \n",
            " 11  unfilled_orders  8002 non-null   int64 \n",
            "dtypes: int64(6), object(6)\n",
            "memory usage: 750.3+ KB\n"
          ]
        }
      ]
    },
    {
      "cell_type": "markdown",
      "source": [
        "Вновь введем другую метрику - ***задержка доставки*** (***delivery_lag***); численно она будет равна разности между годом оформления заказа и годом его получения"
      ],
      "metadata": {
        "id": "ntk32OK-m4p1"
      }
    },
    {
      "cell_type": "code",
      "source": [
        "df['delivery_lag'] = df['delivery_year'] - df['year']"
      ],
      "metadata": {
        "id": "bVw4NoDkSjiC"
      },
      "execution_count": null,
      "outputs": []
    },
    {
      "cell_type": "markdown",
      "source": [
        "Введем в рассмотрение три временных сегмента заказов:\n",
        "\n",
        "\n",
        "\n",
        "1.   ***Ранние*** - заказы совершенные в период с **1958** по **1980** годы\n",
        "2.   ***Срединные*** - заказы совершенные в период с **1981** по **2000** годы\n",
        "3.   ***Позднейшие*** - заказы совершенные в период с **2001** по **2022** годы\n",
        "\n"
      ],
      "metadata": {
        "id": "lHoWkrt2nVwb"
      }
    },
    {
      "cell_type": "code",
      "source": [
        "early_years_df = (\n",
        "    df\n",
        "    .loc[df['delivery_year'] <= 1980]\n",
        "    .groupby('country')['delivery_total', 'order_total', 'delivery_lag']\n",
        "    .sum()\n",
        "    .reset_index()\n",
        ")\n",
        "\n",
        "middle_years_df = (\n",
        "    df\n",
        "    .loc[(1980 < df['delivery_year']) & (2000 >= df['delivery_year'])]\n",
        "    .groupby('country')['delivery_total', 'order_total', 'delivery_lag']\n",
        "    .sum()\n",
        "    .reset_index()\n",
        ")\n",
        "\n",
        "late_years_df = (\n",
        "    df\n",
        "    .loc[2000 < df['delivery_year']]\n",
        "    .groupby('country')['delivery_total', 'order_total', 'delivery_lag']\n",
        "    .sum()\n",
        "    .reset_index()\n",
        ")"
      ],
      "metadata": {
        "id": "bG06aP-xQG_7"
      },
      "execution_count": null,
      "outputs": []
    },
    {
      "cell_type": "markdown",
      "source": [
        "Вообще, к огромному сожалению, в данном датасете **отсутствуют какие-либо непрерывные показатели** - и кол-во заказанных самолетов, и кол-во доставленных, и временная задержка - все эти показатели измеряются целыми неотрицательными числами. Поэтому, формально мы **не можем применять тот же критерий Колмогорова**. Но давайте попробуем все же *представить метрику с наибольшим числом различных значений как непрерывную случайную величину и посмотреть, что мы получим *"
      ],
      "metadata": {
        "id": "V2leLwIJ4j57"
      }
    },
    {
      "cell_type": "markdown",
      "source": [
        "# Проверка на однородность"
      ],
      "metadata": {
        "id": "T0eppTvtLnCX"
      }
    },
    {
      "cell_type": "code",
      "source": [
        "df.groupby('country')['delivery_total'].sum().nunique()"
      ],
      "metadata": {
        "colab": {
          "base_uri": "https://localhost:8080/"
        },
        "id": "wKOjhwTV4FQx",
        "outputId": "2123c2a4-7f02-4cd6-e256-e1c773341027"
      },
      "execution_count": null,
      "outputs": [
        {
          "output_type": "execute_result",
          "data": {
            "text/plain": [
              "72"
            ]
          },
          "metadata": {},
          "execution_count": 9
        }
      ]
    },
    {
      "cell_type": "code",
      "source": [
        "df.groupby('country')['order_total'].sum().nunique()"
      ],
      "metadata": {
        "colab": {
          "base_uri": "https://localhost:8080/"
        },
        "id": "k7XiOfCY57Xw",
        "outputId": "028d5a14-6984-4039-d799-4298c3908890"
      },
      "execution_count": null,
      "outputs": [
        {
          "output_type": "execute_result",
          "data": {
            "text/plain": [
              "72"
            ]
          },
          "metadata": {},
          "execution_count": 10
        }
      ]
    },
    {
      "cell_type": "code",
      "source": [
        "df.groupby('country')['delivery_lag'].sum().nunique()"
      ],
      "metadata": {
        "colab": {
          "base_uri": "https://localhost:8080/"
        },
        "id": "kp1qYV585-0E",
        "outputId": "490a8469-b1c2-4f2a-f4ca-b3015d7bb83f"
      },
      "execution_count": null,
      "outputs": [
        {
          "output_type": "execute_result",
          "data": {
            "text/plain": [
              "69"
            ]
          },
          "metadata": {},
          "execution_count": 11
        }
      ]
    },
    {
      "cell_type": "markdown",
      "source": [
        "Уникальных значений немного больше у метрики ***delivery_total***, так что предположим, что она имеет непрерывное распределение. При помощи *двухвыборочного теста Колмогорова* проверим, одинаково ли распределен этот показатель для различных сегментов"
      ],
      "metadata": {
        "id": "5F1gLYjH6JtR"
      }
    },
    {
      "cell_type": "code",
      "source": [
        "st.ks_2samp(early_years_df['delivery_total'], middle_years_df['delivery_total'])"
      ],
      "metadata": {
        "colab": {
          "base_uri": "https://localhost:8080/"
        },
        "id": "xLsrRJRK6vTu",
        "outputId": "b4aadb7d-32e2-4ba2-fdad-3611c61fa85b"
      },
      "execution_count": null,
      "outputs": [
        {
          "output_type": "execute_result",
          "data": {
            "text/plain": [
              "KstestResult(statistic=0.09796586392331073, pvalue=0.7153121594215881, statistic_location=23, statistic_sign=1)"
            ]
          },
          "metadata": {},
          "execution_count": 12
        }
      ]
    },
    {
      "cell_type": "code",
      "source": [
        "st.ks_2samp(middle_years_df['delivery_total'], late_years_df['delivery_total'])"
      ],
      "metadata": {
        "colab": {
          "base_uri": "https://localhost:8080/"
        },
        "id": "pZWHAGmG7EkW",
        "outputId": "1a0ba6f4-3a1d-4c83-d1c6-0f0652fab165"
      },
      "execution_count": null,
      "outputs": [
        {
          "output_type": "execute_result",
          "data": {
            "text/plain": [
              "KstestResult(statistic=0.13573442706998207, pvalue=0.34930712851922147, statistic_location=11, statistic_sign=1)"
            ]
          },
          "metadata": {},
          "execution_count": 13
        }
      ]
    },
    {
      "cell_type": "code",
      "source": [
        "st.ks_2samp(early_years_df['delivery_total'], late_years_df['delivery_total'])"
      ],
      "metadata": {
        "colab": {
          "base_uri": "https://localhost:8080/"
        },
        "id": "vAsQWo957I0M",
        "outputId": "9b7c161a-9ef4-4b36-d20d-cc2965e71d95"
      },
      "execution_count": null,
      "outputs": [
        {
          "output_type": "execute_result",
          "data": {
            "text/plain": [
              "KstestResult(statistic=0.16112802859790812, pvalue=0.18209839720968296, statistic_location=20, statistic_sign=1)"
            ]
          },
          "metadata": {},
          "execution_count": 14
        }
      ]
    },
    {
      "cell_type": "markdown",
      "source": [
        "По результатам всех парных проверок, получаем, что **во всех сегментах это распределение одинаково**. Попробуем *визуально подтвердить это, посмотрев на гистограммы*"
      ],
      "metadata": {
        "id": "Tjt7H-KN7ZpO"
      }
    },
    {
      "cell_type": "code",
      "source": [
        "sns.histplot(early_years_df['delivery_total'], color='orange', bins=50)"
      ],
      "metadata": {
        "colab": {
          "base_uri": "https://localhost:8080/",
          "height": 468
        },
        "id": "sKcFtbEg7ZFX",
        "outputId": "595bde58-6845-4685-a8aa-4d7f4e536125"
      },
      "execution_count": null,
      "outputs": [
        {
          "output_type": "execute_result",
          "data": {
            "text/plain": [
              "<Axes: xlabel='delivery_total', ylabel='Count'>"
            ]
          },
          "metadata": {},
          "execution_count": 192
        },
        {
          "output_type": "display_data",
          "data": {
            "text/plain": [
              "<Figure size 640x480 with 1 Axes>"
            ],
            "image/png": "[encoded data removed]"
          },
          "metadata": {}
        }
      ]
    },
    {
      "cell_type": "code",
      "source": [
        "sns.histplot(middle_years_df['delivery_total'], color='red', bins=50)"
      ],
      "metadata": {
        "colab": {
          "base_uri": "https://localhost:8080/",
          "height": 468
        },
        "id": "51-rdk-_lgKY",
        "outputId": "9a824ffc-c82e-4f71-87ae-f99e7690b48c"
      },
      "execution_count": null,
      "outputs": [
        {
          "output_type": "execute_result",
          "data": {
            "text/plain": [
              "<Axes: xlabel='delivery_total', ylabel='Count'>"
            ]
          },
          "metadata": {},
          "execution_count": 190
        },
        {
          "output_type": "display_data",
          "data": {
            "text/plain": [
              "<Figure size 640x480 with 1 Axes>"
            ],
            "image/png": "[encoded data removed]"
          },
          "metadata": {}
        }
      ]
    },
    {
      "cell_type": "code",
      "source": [
        "sns.histplot(late_years_df['delivery_total'], color='green', bins=50)"
      ],
      "metadata": {
        "colab": {
          "base_uri": "https://localhost:8080/",
          "height": 467
        },
        "id": "GT4masSWlhre",
        "outputId": "e47626ac-4617-4ff5-8180-a853e53bd123"
      },
      "execution_count": null,
      "outputs": [
        {
          "output_type": "execute_result",
          "data": {
            "text/plain": [
              "<Axes: xlabel='delivery_total', ylabel='Count'>"
            ]
          },
          "metadata": {},
          "execution_count": 191
        },
        {
          "output_type": "display_data",
          "data": {
            "text/plain": [
              "<Figure size 640x480 with 1 Axes>"
            ],
            "image/png": "[encoded data removed]"
          },
          "metadata": {}
        }
      ]
    },
    {
      "cell_type": "markdown",
      "source": [
        "Сразу бросаются в глаза **серьёзные различия не только в частотах, но и в хвостах**. В силу *неправомерного применения критерия Колмогорова ранее*, можно сказать, что *распределения поставок в первых двух сегментах скорее всего все же отличаются от третьего*, а между *первым и вторым различия тоже есть но они несколько меньше*"
      ],
      "metadata": {
        "id": "dPFtI9eH-2q8"
      }
    },
    {
      "cell_type": "markdown",
      "source": [
        "Теперь проверим на однородность распределения задержки доставки по сегментам. Так как **размеры сегоментов различны, то использование критерия Пирсона будет достаточно затруднительным**. Поэтому будем использовать *критерий Манна-Уитни*"
      ],
      "metadata": {
        "id": "duuH61T1Jifc"
      }
    },
    {
      "cell_type": "code",
      "source": [
        "st.mannwhitneyu(early_years_df['delivery_lag'], middle_years_df['delivery_lag'])"
      ],
      "metadata": {
        "colab": {
          "base_uri": "https://localhost:8080/"
        },
        "id": "hIHmPyXu_oh5",
        "outputId": "569ab93c-fd09-4cc3-e0fe-a10da7be729e"
      },
      "execution_count": null,
      "outputs": [
        {
          "output_type": "execute_result",
          "data": {
            "text/plain": [
              "MannwhitneyuResult(statistic=3899.0, pvalue=0.29877874165598317)"
            ]
          },
          "metadata": {},
          "execution_count": 41
        }
      ]
    },
    {
      "cell_type": "code",
      "source": [
        "st.mannwhitneyu(middle_years_df['delivery_lag'], late_years_df['delivery_lag'])"
      ],
      "metadata": {
        "colab": {
          "base_uri": "https://localhost:8080/"
        },
        "id": "uA6P4PrCBsJU",
        "outputId": "b1de3814-f368-4497-dbc3-8a7c319fb51d"
      },
      "execution_count": null,
      "outputs": [
        {
          "output_type": "execute_result",
          "data": {
            "text/plain": [
              "MannwhitneyuResult(statistic=2572.0, pvalue=9.275965599645297e-05)"
            ]
          },
          "metadata": {},
          "execution_count": 42
        }
      ]
    },
    {
      "cell_type": "code",
      "source": [
        "st.mannwhitneyu(early_years_df['delivery_lag'], late_years_df['delivery_lag'])"
      ],
      "metadata": {
        "colab": {
          "base_uri": "https://localhost:8080/"
        },
        "id": "l9yK9PYUBtdh",
        "outputId": "4006ebf5-ee0b-4e42-a490-4d0a9df8ee70"
      },
      "execution_count": null,
      "outputs": [
        {
          "output_type": "execute_result",
          "data": {
            "text/plain": [
              "MannwhitneyuResult(statistic=1982.5, pvalue=6.31812417854995e-08)"
            ]
          },
          "metadata": {},
          "execution_count": 43
        }
      ]
    },
    {
      "cell_type": "markdown",
      "source": [
        "Как можно увидеть, *в случае первых двух сегментов гипотеза об однородности не отвергается*, а *для третьего сегмента - отвергается* (то есть **распределение задержки в поздние годы статистически сильно отличается от остальных**). Тем не менее, если визуально оценить гистограммы метрики у первых двух сегментов, то они *будут достаточно сильно различаться*."
      ],
      "metadata": {
        "id": "iUApRuJqLCpC"
      }
    },
    {
      "cell_type": "code",
      "source": [
        "sns.histplot(early_years_df['delivery_lag'], color='orange', bins=50)"
      ],
      "metadata": {
        "colab": {
          "base_uri": "https://localhost:8080/",
          "height": 467
        },
        "id": "2NO7RjSzqsrt",
        "outputId": "056615e6-fd1c-4f57-8714-52b13bc7c552"
      },
      "execution_count": null,
      "outputs": [
        {
          "output_type": "execute_result",
          "data": {
            "text/plain": [
              "<Axes: xlabel='delivery_lag', ylabel='Count'>"
            ]
          },
          "metadata": {},
          "execution_count": 217
        },
        {
          "output_type": "display_data",
          "data": {
            "text/plain": [
              "<Figure size 640x480 with 1 Axes>"
            ],
            "image/png": "[encoded data removed]"
          },
          "metadata": {}
        }
      ]
    },
    {
      "cell_type": "code",
      "source": [
        "sns.histplot(middle_years_df['delivery_lag'], color='red', bins=50)"
      ],
      "metadata": {
        "colab": {
          "base_uri": "https://localhost:8080/",
          "height": 467
        },
        "id": "2jWFxmJQqwm_",
        "outputId": "ec8e1a78-5034-4270-f69a-acc9ec97a6eb"
      },
      "execution_count": null,
      "outputs": [
        {
          "output_type": "execute_result",
          "data": {
            "text/plain": [
              "<Axes: xlabel='delivery_lag', ylabel='Count'>"
            ]
          },
          "metadata": {},
          "execution_count": 218
        },
        {
          "output_type": "display_data",
          "data": {
            "text/plain": [
              "<Figure size 640x480 with 1 Axes>"
            ],
            "image/png": "[encoded data removed]"
          },
          "metadata": {}
        }
      ]
    },
    {
      "cell_type": "markdown",
      "source": [
        "# Проверка на равенство медиан"
      ],
      "metadata": {
        "id": "yBYx6_2oLzmU"
      }
    },
    {
      "cell_type": "markdown",
      "source": [
        "Раз уж при проверке **гипотез об однородности распределений показателя *delivery_total* нелуевая гипотеза везде не отвергалась** (невзирая на упомянутую ранее некоторую неправомерность применения критерия Колмогорова), то попробуем применить здесь*** критерий Манна-Уитни*** для *проверки на равенство медиан данного показателя для разных сегментов*"
      ],
      "metadata": {
        "id": "N400Qq5KNkcd"
      }
    },
    {
      "cell_type": "code",
      "source": [
        "st.mannwhitneyu(early_years_df['delivery_total'], middle_years_df['delivery_total'])"
      ],
      "metadata": {
        "colab": {
          "base_uri": "https://localhost:8080/"
        },
        "id": "kzOG5H-oK-Lm",
        "outputId": "8dfeda8b-e392-48d9-bc4d-d5f3e3ded4f3"
      },
      "execution_count": null,
      "outputs": [
        {
          "output_type": "execute_result",
          "data": {
            "text/plain": [
              "MannwhitneyuResult(statistic=4205.5, pvalue=0.8451584551126978)"
            ]
          },
          "metadata": {},
          "execution_count": 44
        }
      ]
    },
    {
      "cell_type": "code",
      "source": [
        "st.mannwhitneyu(middle_years_df['delivery_total'], late_years_df['delivery_total'])"
      ],
      "metadata": {
        "colab": {
          "base_uri": "https://localhost:8080/"
        },
        "id": "OqSbXshVN-sZ",
        "outputId": "5cdfc0d7-7b14-48f0-c930-6a83b8eb19fa"
      },
      "execution_count": null,
      "outputs": [
        {
          "output_type": "execute_result",
          "data": {
            "text/plain": [
              "MannwhitneyuResult(statistic=3276.5, pvalue=0.06629468861965908)"
            ]
          },
          "metadata": {},
          "execution_count": 45
        }
      ]
    },
    {
      "cell_type": "code",
      "source": [
        "st.mannwhitneyu(early_years_df['delivery_total'], late_years_df['delivery_total'])"
      ],
      "metadata": {
        "colab": {
          "base_uri": "https://localhost:8080/"
        },
        "id": "fDmQOZuEOC2u",
        "outputId": "25883618-ed02-4b74-c1fb-02fd3d5be065"
      },
      "execution_count": null,
      "outputs": [
        {
          "output_type": "execute_result",
          "data": {
            "text/plain": [
              "MannwhitneyuResult(statistic=3056.0, pvalue=0.029907364152849482)"
            ]
          },
          "metadata": {},
          "execution_count": 46
        }
      ]
    },
    {
      "cell_type": "markdown",
      "source": [
        "Можно заметить, что для соседних пар сегментов *гипотеза о равенстве медиан не отвергается*, а для *раннего и позднего сегментов - отвергается*. При этом значение p-уровня во втором сравнении также *достаточно близко к критическому* (особенно по сравнению с первым); вспоминая о большой вероятности наличия неоднородности в распределениях, можно предположить что **медиана статистически отличается в третьем сегменте, а в первом и втором - нет**"
      ],
      "metadata": {
        "id": "PprY0CyvOXCm"
      }
    },
    {
      "cell_type": "markdown",
      "source": [
        "Перейдем к дискретной метрике **delivery_lag**. Так как в предыдущем разделе мы *отвергли гипотезу об однородности всех трех сегментов*, то попробуем использовать какой-нибудь другой тест для проверки равенства медиан. Основная проблема заключена в том, что **выборки не являются связаными и имеют различный объем**. Предлагается **урезать выборки до меньшей из длин и попробовать применить двухвыборочный *критерий Уилкоксона* с двухсторонней альтернативой**; при этом будем *брать случайную выборку без повторений несколько раз и считать кол-во случаев, когда нулевая гипотеза о равенстве медиан отвергалас*ь. Если это количество **больше заданного критиеского уровня 0.05**, то будем *отвергать нулевую гипотезу о равенстве медиан для исходных выборок* (своего рода аналог бутстрапа)"
      ],
      "metadata": {
        "id": "VC7DVJtoPBx7"
      }
    },
    {
      "cell_type": "code",
      "source": [
        "def pseudo_wilcox(df1, df2, alpha = 0.05):\n",
        "  \"\"\"\n",
        "    Функция проверки гипотезы о равенстве медиан для выборок разного объема (df1.len < df2.len)\n",
        "  \"\"\"\n",
        "  c = 0\n",
        "  for _ in range(1000):\n",
        "    rand_sample = np.random.choice(df2, size = df1.shape[0], replace = False) # Извлечение случайной подвыборки требуемого объема\n",
        "    if st.wilcoxon(df1, rand_sample).pvalue < alpha: # Применеие критерия Уилкоксона и подсчет кол-ва отвержений гипотез\n",
        "      c += 1\n",
        "\n",
        "  return c / 1000 # Возвращение аналога ошибки первого рода"
      ],
      "metadata": {
        "id": "Gv8zC3DJU4F7"
      },
      "execution_count": null,
      "outputs": []
    },
    {
      "cell_type": "code",
      "source": [
        "pseudo_wilcox(early_years_df['delivery_lag'], middle_years_df['delivery_lag'])"
      ],
      "metadata": {
        "colab": {
          "base_uri": "https://localhost:8080/"
        },
        "id": "mSNFoH-iVSFp",
        "outputId": "6dbc3e79-54c0-4bef-c0d6-829d2eae3e23"
      },
      "execution_count": null,
      "outputs": [
        {
          "output_type": "execute_result",
          "data": {
            "text/plain": [
              "0.146"
            ]
          },
          "metadata": {},
          "execution_count": 178
        }
      ]
    },
    {
      "cell_type": "code",
      "source": [
        "pseudo_wilcox(late_years_df['delivery_lag'], middle_years_df['delivery_lag'])"
      ],
      "metadata": {
        "colab": {
          "base_uri": "https://localhost:8080/"
        },
        "id": "Rc1uelqFJoD0",
        "outputId": "964b870c-f191-4877-e3e4-bf1d94194d58"
      },
      "execution_count": null,
      "outputs": [
        {
          "output_type": "execute_result",
          "data": {
            "text/plain": [
              "0.999"
            ]
          },
          "metadata": {},
          "execution_count": 179
        }
      ]
    },
    {
      "cell_type": "code",
      "source": [
        "pseudo_wilcox(late_years_df['delivery_lag'], early_years_df['delivery_lag'])"
      ],
      "metadata": {
        "colab": {
          "base_uri": "https://localhost:8080/"
        },
        "id": "hHos4CZ6QDDp",
        "outputId": "0310bac9-14cd-4a80-aaf2-c0c47d17f66b"
      },
      "execution_count": null,
      "outputs": [
        {
          "output_type": "execute_result",
          "data": {
            "text/plain": [
              "1.0"
            ]
          },
          "metadata": {},
          "execution_count": 180
        }
      ]
    },
    {
      "cell_type": "markdown",
      "source": [
        "Во всех трех случаях **ошибка первого рода оказалась выше критического уровня**, следовательно мы должны отвергнуть *гипотезы о равенстве медиан*."
      ],
      "metadata": {
        "id": "6Qd8RnOgW9pr"
      }
    },
    {
      "cell_type": "markdown",
      "source": [
        "# Проверка гипотез бутстрапом"
      ],
      "metadata": {
        "id": "rpK35a6JXLpm"
      }
    },
    {
      "cell_type": "markdown",
      "source": [
        "Построим Эфроновы доверительные интервалы для медиан различных сегментов и сопоставим их друг с другом"
      ],
      "metadata": {
        "id": "oDMqqNoFh9Aq"
      }
    },
    {
      "cell_type": "code",
      "source": [
        "def bootstrap_interval(rvs, stat=np.median, alpha=0.05):\n",
        "  \"\"\"\n",
        "      Построение эфронова доверительного интервала для выбранной статистики stat (передаваемой в виде функции) по выборке rvs на уровне доверия 1 - alpha\n",
        "  \"\"\"\n",
        "  n = rvs.shape[0]\n",
        "  distribution_lst = []\n",
        "  for _ in range(100):\n",
        "    a_ = np.random.choice(rvs, size=n, replace=True) # Получение подвыборки\n",
        "    distribution_lst.append(stat(a_)) # Расчет искомой статистики для подвыборки и добавление в псевдораспределение\n",
        "\n",
        "  return np.percentile(distribution_lst, q=[alpha / 2 * 100, (1 - alpha / 2) * 100]) # Возвращение требуемого доверительного интервала по полученному псевдораспределению статистики"
      ],
      "metadata": {
        "id": "_U42t8_-cwsn"
      },
      "execution_count": null,
      "outputs": []
    },
    {
      "cell_type": "markdown",
      "source": [
        "Сперва построим для метрики ***delivery_total***"
      ],
      "metadata": {
        "id": "Uh0l0J-Gi1YG"
      }
    },
    {
      "cell_type": "code",
      "source": [
        "bootstrap_interval(early_years_df['delivery_total'])"
      ],
      "metadata": {
        "colab": {
          "base_uri": "https://localhost:8080/"
        },
        "id": "wNLZcZxNfKTx",
        "outputId": "a7d05fb9-a198-4ac5-cec4-f8b7e19fa3cc"
      },
      "execution_count": null,
      "outputs": [
        {
          "output_type": "execute_result",
          "data": {
            "text/plain": [
              "array([ 7.   , 14.525])"
            ]
          },
          "metadata": {},
          "execution_count": 163
        }
      ]
    },
    {
      "cell_type": "code",
      "source": [
        "bootstrap_interval(middle_years_df['delivery_total'])"
      ],
      "metadata": {
        "colab": {
          "base_uri": "https://localhost:8080/"
        },
        "id": "pI-n7DOefQBv",
        "outputId": "68cdf6ef-5da5-4e58-d3c9-83e9ddad8d79"
      },
      "execution_count": null,
      "outputs": [
        {
          "output_type": "execute_result",
          "data": {
            "text/plain": [
              "array([ 6.2375, 16.    ])"
            ]
          },
          "metadata": {},
          "execution_count": 164
        }
      ]
    },
    {
      "cell_type": "code",
      "source": [
        "bootstrap_interval(late_years_df['delivery_total'])"
      ],
      "metadata": {
        "colab": {
          "base_uri": "https://localhost:8080/"
        },
        "id": "8DNZUWbifS2R",
        "outputId": "320ea647-f70d-41fd-eb88-d30d2b69ebe0"
      },
      "execution_count": null,
      "outputs": [
        {
          "output_type": "execute_result",
          "data": {
            "text/plain": [
              "array([13., 25.])"
            ]
          },
          "metadata": {},
          "execution_count": 176
        }
      ]
    },
    {
      "cell_type": "markdown",
      "source": [
        "Можно заметить что **интервалы у первых двух сегментов значительно пересекаются** (вернее первый может вообще целиком лежать во втором), что *свидетельствует о большой вероятности совпадения медиан для них*; у **третьего же сегмента пересечение с остальными сегментами достаточно мало**, а значит вероятность совпадения достаточно низка (то есть можно *гипотезу о равенстве отвергнуть*)"
      ],
      "metadata": {
        "id": "lTBbEQrOjDyn"
      }
    },
    {
      "cell_type": "markdown",
      "source": [
        "Теперь для метрики ***delivery_lag***"
      ],
      "metadata": {
        "id": "ZFSvVMpdjz2b"
      }
    },
    {
      "cell_type": "code",
      "source": [
        "bootstrap_interval(early_years_df['delivery_lag'])"
      ],
      "metadata": {
        "colab": {
          "base_uri": "https://localhost:8080/"
        },
        "id": "7uyrBsxbfonw",
        "outputId": "1a331a31-2d34-4411-925a-0c8ffbb5842b"
      },
      "execution_count": null,
      "outputs": [
        {
          "output_type": "execute_result",
          "data": {
            "text/plain": [
              "array([4., 9.])"
            ]
          },
          "metadata": {},
          "execution_count": 170
        }
      ]
    },
    {
      "cell_type": "code",
      "source": [
        "bootstrap_interval(middle_years_df['delivery_lag'])"
      ],
      "metadata": {
        "colab": {
          "base_uri": "https://localhost:8080/"
        },
        "id": "zimEo2KxfrX2",
        "outputId": "94f3ad20-9401-450e-ba4e-549256776d31"
      },
      "execution_count": null,
      "outputs": [
        {
          "output_type": "execute_result",
          "data": {
            "text/plain": [
              "array([ 4.5  , 12.525])"
            ]
          },
          "metadata": {},
          "execution_count": 171
        }
      ]
    },
    {
      "cell_type": "code",
      "source": [
        "bootstrap_interval(late_years_df['delivery_lag'])"
      ],
      "metadata": {
        "colab": {
          "base_uri": "https://localhost:8080/"
        },
        "id": "rWkRc3f-ftCP",
        "outputId": "b51d1399-8b41-45cb-d1f2-3c11122c934f"
      },
      "execution_count": null,
      "outputs": [
        {
          "output_type": "execute_result",
          "data": {
            "text/plain": [
              "array([21., 44.])"
            ]
          },
          "metadata": {},
          "execution_count": 172
        }
      ]
    },
    {
      "cell_type": "markdown",
      "source": [
        "И снова: **интервалы для первых двух сегментов значительно пересекаются** (что может *свидетельствовать о совпадении медиан*), **а у третьего сегмента вообще не имеет пересечения с остальными** (следовательно *гипотезу о равенстве медиан можно однозначно отвергнуть*)"
      ],
      "metadata": {
        "id": "RAJ_zv2pj4O0"
      }
    },
    {
      "cell_type": "markdown",
      "source": [
        "Вообще не очень понятно, как конкретно применять бутстрап при проверке гипотез однородности; в моем понимании *этот метод в первую очередь подходит для проверки гипотез о конкретных статистиках, а не о функциях распределения в целом*. Наверное, можно как-то попробовать посравнивать доверительные интервалы для квантилей распределения, но какие-то конкретные действия, как бы это можно было осуществить, мне не приходят на ум. Поэтому, я предлагаю несколько другой вариант применения бутстрапа (аналог того что делалось выше при применении критерия Уилкоксона): ***будем извлекать произвольные выборки, применять для них критерий Манна-Уитни и считать долю отвергнутых гипотез (аналог ошибки первого рода)***. Затем достаточно будет *сравнить полученный анлог с заданной ошибкой первого рода, и если первая будет больше, то нулевую гипотезу отвергнуть*.  "
      ],
      "metadata": {
        "id": "_BlPmWWFkPg3"
      }
    },
    {
      "cell_type": "code",
      "source": [
        "def bootstrap_cdf_check(df1, df2, alpha = 0.05):\n",
        "  \"\"\"\n",
        "    Функция вычисления ошибки первого рода для проверки гипотезы однородности бустрапом (вернее подобием)\n",
        "  \"\"\"\n",
        "  c = 0 # Счетчик отвергнутых гипотез\n",
        "  for _ in range(1000):\n",
        "    rand_sample1 = np.random.choice(df1, size = df1.shape[0], replace = True) # Первая псевдовыборка\n",
        "    rand_sample2 = np.random.choice(df2, size = df2.shape[0], replace = True) # Вторая псевдовыборка\n",
        "    if st.mannwhitneyu(rand_sample1, rand_sample2).pvalue < alpha: # Критерий Манна-Уитни для принятия или отвержения гипотезы\n",
        "      c += 1\n",
        "\n",
        "  return c / 1000"
      ],
      "metadata": {
        "id": "1LDkAwCNkRBK"
      },
      "execution_count": null,
      "outputs": []
    },
    {
      "cell_type": "markdown",
      "source": [
        "Применим этот подход для метрики ***delivery_total***"
      ],
      "metadata": {
        "id": "KmpYVjQOosBD"
      }
    },
    {
      "cell_type": "code",
      "source": [
        "for _ in range(10):\n",
        "  print(bootstrap_cdf_check(early_years_df['delivery_total'], middle_years_df['delivery_total']))"
      ],
      "metadata": {
        "colab": {
          "base_uri": "https://localhost:8080/"
        },
        "id": "JCJk7zMPkzbC",
        "outputId": "b7fc9350-4d0a-45de-af5e-f9f58244f7bc"
      },
      "execution_count": null,
      "outputs": [
        {
          "output_type": "stream",
          "name": "stdout",
          "text": [
            "0.04\n",
            "0.052\n",
            "0.063\n",
            "0.046\n",
            "0.05\n",
            "0.08\n",
            "0.056\n",
            "0.051\n",
            "0.054\n",
            "0.044\n"
          ]
        }
      ]
    },
    {
      "cell_type": "code",
      "source": [
        "for _ in range(10):\n",
        "  print(bootstrap_cdf_check(late_years_df['delivery_total'], middle_years_df['delivery_total']))"
      ],
      "metadata": {
        "colab": {
          "base_uri": "https://localhost:8080/"
        },
        "id": "5QnKuUtrlBRH",
        "outputId": "5bd26361-d6f1-4b01-abdf-0aee7bb6b189"
      },
      "execution_count": null,
      "outputs": [
        {
          "output_type": "stream",
          "name": "stdout",
          "text": [
            "0.432\n",
            "0.467\n",
            "0.475\n",
            "0.459\n",
            "0.438\n",
            "0.468\n",
            "0.466\n",
            "0.444\n",
            "0.492\n",
            "0.453\n"
          ]
        }
      ]
    },
    {
      "cell_type": "code",
      "source": [
        "for _ in range(10):\n",
        "  print(bootstrap_cdf_check(early_years_df['delivery_total'], late_years_df['delivery_total']))"
      ],
      "metadata": {
        "colab": {
          "base_uri": "https://localhost:8080/"
        },
        "id": "GQgHpRu6lEum",
        "outputId": "6d0ec113-7861-43f0-acd5-4ef19972afc5"
      },
      "execution_count": null,
      "outputs": [
        {
          "output_type": "stream",
          "name": "stdout",
          "text": [
            "0.581\n",
            "0.583\n",
            "0.58\n",
            "0.57\n",
            "0.578\n",
            "0.575\n",
            "0.604\n",
            "0.596\n",
            "0.575\n",
            "0.564\n"
          ]
        }
      ]
    },
    {
      "cell_type": "markdown",
      "source": [
        "Впринципе, полученные результаты **во многом согласуются с теми выводами, которые были сделаны при сопоставлении гистограмм распределений**. Так, *первый и второй сегмент находятся \"на грани\" между отвержением и принятием гипотез* (возвращаемый аналог ошибки первого рода в основном колеблется на уровне 0.4-0.6). Для сравнений же с третьим сегментом *возвращаемый показатель значительно превосходит заданный уровень значимости*, а значит *принятие гипотезы об однородности распредлений невозможно*."
      ],
      "metadata": {
        "id": "B8asiLMLoqtP"
      }
    },
    {
      "cell_type": "markdown",
      "source": [
        "Теперь применим для ***delivery_lag***"
      ],
      "metadata": {
        "id": "bnXkDqrup7ha"
      }
    },
    {
      "cell_type": "code",
      "source": [
        "for _ in range(10):\n",
        "  print(bootstrap_cdf_check(early_years_df['delivery_lag'], middle_years_df['delivery_lag']))"
      ],
      "metadata": {
        "colab": {
          "base_uri": "https://localhost:8080/"
        },
        "id": "DogGYaGJlJFp",
        "outputId": "083e9787-f036-47d4-e584-98aea45111a2"
      },
      "execution_count": null,
      "outputs": [
        {
          "output_type": "stream",
          "name": "stdout",
          "text": [
            "0.191\n",
            "0.171\n",
            "0.185\n",
            "0.191\n",
            "0.184\n",
            "0.176\n",
            "0.189\n",
            "0.169\n",
            "0.156\n",
            "0.181\n"
          ]
        }
      ]
    },
    {
      "cell_type": "code",
      "source": [
        "for _ in range(10):\n",
        "  print(bootstrap_cdf_check(late_years_df['delivery_lag'], middle_years_df['delivery_lag']))"
      ],
      "metadata": {
        "colab": {
          "base_uri": "https://localhost:8080/"
        },
        "id": "ijngeYVHmTi6",
        "outputId": "3e314a73-dcbe-4d59-f10a-bb6e95d65ecf"
      },
      "execution_count": null,
      "outputs": [
        {
          "output_type": "stream",
          "name": "stdout",
          "text": [
            "0.975\n",
            "0.98\n",
            "0.983\n",
            "0.979\n",
            "0.977\n",
            "0.988\n",
            "0.988\n",
            "0.976\n",
            "0.979\n",
            "0.983\n"
          ]
        }
      ]
    },
    {
      "cell_type": "code",
      "source": [
        "for _ in range(10):\n",
        "  print(bootstrap_cdf_check(late_years_df['delivery_lag'], early_years_df['delivery_lag']))"
      ],
      "metadata": {
        "colab": {
          "base_uri": "https://localhost:8080/"
        },
        "id": "j3T2qLp5mV0_",
        "outputId": "e03aa05c-663c-4301-9122-fb5aa5e7750c"
      },
      "execution_count": null,
      "outputs": [
        {
          "output_type": "stream",
          "name": "stdout",
          "text": [
            "1.0\n",
            "1.0\n",
            "1.0\n",
            "1.0\n",
            "1.0\n",
            "1.0\n",
            "0.999\n",
            "1.0\n",
            "1.0\n",
            "1.0\n"
          ]
        }
      ]
    },
    {
      "cell_type": "markdown",
      "source": [
        "В данном случае** отвергаются сразу все три гипотезы**; при этом, когда мы выше применяли *критерий Манна-Уитни* для двух первых сегментов целиком, то *отвержение гипотезы мы не получали* (однако по гистограммам отличия прослеживались). При сравнении с третьим сегментам *отвержения происходят настолько часто, что гипотезу об однородности принять ну никак нельзя*."
      ],
      "metadata": {
        "id": "PctoWkypqUAj"
      }
    },
    {
      "cell_type": "markdown",
      "source": [
        "# Некоторое послесловие (пункт 3 из дз)"
      ],
      "metadata": {
        "id": "oUxJeQkBtqbY"
      }
    },
    {
      "cell_type": "markdown",
      "source": [
        "Вообще, данный датасет (по крайней мере при выбранной сегментации и групировке) является **крайне неудобным для применения стандартных тестов**: *распределения метрик сильно скошены влево*, *имеются явные выбросы и пробелы*; *записей в сегментах получилось не очень много, при этом объемы и структура сегментов различны по каждой выборке*; *сами метрики исключительно дискретные*. Поэтому в данном конретном случае **применение рассмотренных на лекции критериев крайне затруднительно**: *критерий Колмогорова не применим в силу дискретности метрик*, *критерии Пирсона и Уилкоксона - в силу различного состава выборок*, *критерий Манна-Уитни - в силу наличия существенных различий в функциях распределений*. Поэтому в данном случае **куда более действенным и мощным будет бутстрап**, с оговоркой о непонятности (как минимум моей) его применения для проверки однородности. Тем не менее, *во многих ситуациях даже не очень правомерное применение стандартных критериев давало результаты, аналогичные бутстрапу*.\n",
        "\n"
      ],
      "metadata": {
        "id": "Br0tHMSjtv99"
      }
    },
    {
      "cell_type": "code",
      "source": [
        "!jupyter nbconvert --to html '/content/Проверка_гипотез2.ipynb'"
      ],
      "metadata": {
        "colab": {
          "base_uri": "https://localhost:8080/"
        },
        "id": "KJTRs7dD0mqk",
        "outputId": "098efd97-25c3-4eb9-cfd3-f20cbd49ee09"
      },
      "execution_count": null,
      "outputs": [
        {
          "output_type": "stream",
          "name": "stdout",
          "text": [
            "[NbConvertApp] Converting notebook /content/Проверка_гипотез2.ipynb to html\n",
            "[NbConvertApp] Writing 748631 bytes to /content/Проверка_гипотез2.html\n"
          ]
        }
      ]
    }
  ]
}